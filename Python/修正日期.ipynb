{
 "cells": [
  {
   "cell_type": "code",
   "execution_count": null,
   "id": "e0351d70",
   "metadata": {},
   "outputs": [],
   "source": [
    "import pymongo\n",
    "import pandas as pd\n",
    "\n",
    "client = pymongo.MongoClient(\"mongodb+srv://帳號:密碼@mongodb連線通道\")\n",
    "db = client.資料庫名稱\n",
    "collection = db.資料夾名稱\n",
    "\n",
    "date2 = {\"Checkin_day\":\"2022-6 -02\"}\n",
    "date3 = {\"Checkin_day\":\"2022-6 -03\"}\n",
    "date4 = {\"Checkin_day\":\"2022-6 -04\"}\n",
    "date5 = {\"Checkin_day\":\"2022-6 -05\"}\n",
    "date6 = {\"Checkin_day\":\"2022-6 -06\"}\n",
    "date7 = {\"Checkin_day\":\"2022-6 -07\"}\n",
    "date8 = {\"Checkin_day\":\"2022-6 -08\"}\n",
    "date9 = {\"Checkin_day\":\"2022-6 -09\"}\n",
    "date10 = {\"Checkin_day\":\"2022-6 -10\"}\n",
    "\n",
    "date_update2 = {\"$set\":{\"Checkin_day\":\"2022-06-02\"}}\n",
    "date_update3 = {\"$set\":{\"Checkin_day\":\"2022-06-03\"}}\n",
    "date_update4 = {\"$set\":{\"Checkin_day\":\"2022-06-04\"}}\n",
    "date_update5 = {\"$set\":{\"Checkin_day\":\"2022-06-05\"}}\n",
    "date_update6 = {\"$set\":{\"Checkin_day\":\"2022-06-06\"}}\n",
    "date_update7 = {\"$set\":{\"Checkin_day\":\"2022-06-07\"}}\n",
    "date_update8 = {\"$set\":{\"Checkin_day\":\"2022-06-08\"}}\n",
    "date_update9 = {\"$set\":{\"Checkin_day\":\"2022-06-09\"}}\n",
    "date_update10 = {\"$set\":{\"Checkin_day\":\"2022-06-10\"}}\n",
    "\n",
    "\n",
    "result2 = collection.update_many(date2, date_update2)\n",
    "result3 = collection.update_many(date3, date_update3)\n",
    "result4 = collection.update_many(date4, date_update4)\n",
    "result5 = collection.update_many(date5, date_update5)\n",
    "result6 = collection.update_many(date6, date_update6)\n",
    "result7 = collection.update_many(date7, date_update7)\n",
    "result8 = collection.update_many(date8, date_update8)\n",
    "result9 = collection.update_many(date9, date_update9)\n",
    "result10 = collection.update_many(date10, date_update10)\n",
    "\n",
    "\n",
    "print(\"完成\")"
   ]
  }
 ],
 "metadata": {
  "kernelspec": {
   "display_name": "Python 3 (ipykernel)",
   "language": "python",
   "name": "python3"
  },
  "language_info": {
   "codemirror_mode": {
    "name": "ipython",
    "version": 3
   },
   "file_extension": ".py",
   "mimetype": "text/x-python",
   "name": "python",
   "nbconvert_exporter": "python",
   "pygments_lexer": "ipython3",
   "version": "3.9.7"
  }
 },
 "nbformat": 4,
 "nbformat_minor": 5
}
