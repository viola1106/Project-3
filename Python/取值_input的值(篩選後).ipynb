{
 "cells": [
  {
   "cell_type": "code",
   "execution_count": null,
   "id": "7e6561f7",
   "metadata": {},
   "outputs": [],
   "source": [
    "# 取需要的資料:篩選的值\n",
    "def choose():\n",
    "    date_choose = cal.selection_get()\n",
    "    print(date_choose)\n",
    "    \n",
    "    city = place_r.get()  #選取的縣市\n",
    "    if city == \"台北市\":\n",
    "        db_collection = \"Taipei\"\n",
    "    elif city == \"新北市\":\n",
    "        db_collection = \"New_Taipei\"\n",
    "    elif city == \"桃園市\":\n",
    "        db_collection = \"Taoyuan\"\n",
    "    elif city == \"台中市\":\n",
    "        db_collection = \"Taiching\"\n",
    "    elif city == \"台南市\":\n",
    "        db_collection = \"Tainan\"\n",
    "    elif city == \"高雄市\":\n",
    "        db_collection = \"Kaohsiung\"\n",
    "        \n",
    "    people_num = people_r.get()\n",
    "    if people_num == \"2人\":\n",
    "        db_name = \"Two_p\"\n",
    "    elif people_num == \"4人\":\n",
    "        db_name = \"Four_p\"\n",
    "    \n",
    "    factor = rates_r.get()\n",
    "    car_p = v.get()\n",
    "    price_low = dollar_low.get()\n",
    "    price_hight = dollar_hight.get()\n",
    "    \n",
    "    if date_choose == None or city ==\"地區\" or people_num == \"住宿人數\" or factor == \"選項\" or car_p == None or int(price_low)<1 or int(price_low)>int(price_hight):\n",
    "        error()\n",
    "    \n",
    "    return date_choose, city, db_collection, db_name, people_num, factor, car_p, price_low, price_hight"
   ]
  }
 ],
 "metadata": {
  "kernelspec": {
   "display_name": "Python 3 (ipykernel)",
   "language": "python",
   "name": "python3"
  },
  "language_info": {
   "codemirror_mode": {
    "name": "ipython",
    "version": 3
   },
   "file_extension": ".py",
   "mimetype": "text/x-python",
   "name": "python",
   "nbconvert_exporter": "python",
   "pygments_lexer": "ipython3",
   "version": "3.9.7"
  }
 },
 "nbformat": 4,
 "nbformat_minor": 5
}
