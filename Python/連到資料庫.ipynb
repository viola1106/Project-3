{
 "cells": [
  {
   "cell_type": "code",
   "execution_count": null,
   "id": "73c3605b",
   "metadata": {},
   "outputs": [],
   "source": [
    "import pymongo\n",
    "import pandas as pd\n",
    "\n",
    "client = pymongo.MongoClient(\"mongodb+srv://帳號:密碼@mongodb連線通道\")\n",
    "db = client.資料庫名稱\n",
    "collection = db.資料表名稱\n",
    "\n",
    "result = collection.find({\"Checkin_day\":\"2022-6 -02\"})\n",
    "\n",
    "for price in result:\n",
    "    print(price[\"Name\"])"
   ]
  }
 ],
 "metadata": {
  "kernelspec": {
   "display_name": "Python 3 (ipykernel)",
   "language": "python",
   "name": "python3"
  },
  "language_info": {
   "codemirror_mode": {
    "name": "ipython",
    "version": 3
   },
   "file_extension": ".py",
   "mimetype": "text/x-python",
   "name": "python",
   "nbconvert_exporter": "python",
   "pygments_lexer": "ipython3",
   "version": "3.9.7"
  }
 },
 "nbformat": 4,
 "nbformat_minor": 5
}
