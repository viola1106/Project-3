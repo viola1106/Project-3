{
 "cells": [
  {
   "cell_type": "code",
   "execution_count": null,
   "id": "0bda063c",
   "metadata": {},
   "outputs": [],
   "source": [
    "import pymongo\n",
    "import pandas as pd\n",
    "\n",
    "client = pymongo.MongoClient(\"mongodb+srv://帳號:密碼@mongodb連線通道\")\n",
    "db = client.資料庫名稱\n",
    "collection = db.資料表名稱\n",
    "\n",
    "def factor(date, car_p, price_low, price_hight, rates_r):\n",
    "    result = collection.find({\n",
    "        \"Checkin_day\":date,\n",
    "        \"Car_Park_State\":car_p,\n",
    "        \"Price\":{\"$lte\":price_hight, \"$gte\":price_low}}).sort(\"Location\", -1).limit(5)\n",
    "    for price in result:\n",
    "        print(price)\n",
    "        \n",
    "date = \"2022-06-01\"\n",
    "car_p = \"Yes\"\n",
    "price_low = 1100\n",
    "price_hight = 1250\n",
    "rates_r = \"Cleanliness\"\n",
    "\n",
    "factor(date car_p, price_low, price_hight, rates_r)\n"
   ]
  }
 ],
 "metadata": {
  "kernelspec": {
   "display_name": "Python 3 (ipykernel)",
   "language": "python",
   "name": "python3"
  },
  "language_info": {
   "codemirror_mode": {
    "name": "ipython",
    "version": 3
   },
   "file_extension": ".py",
   "mimetype": "text/x-python",
   "name": "python",
   "nbconvert_exporter": "python",
   "pygments_lexer": "ipython3",
   "version": "3.9.7"
  }
 },
 "nbformat": 4,
 "nbformat_minor": 5
}
