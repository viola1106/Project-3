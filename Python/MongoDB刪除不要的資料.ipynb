{
 "cells": [
  {
   "cell_type": "code",
   "execution_count": null,
   "id": "61a2e88b",
   "metadata": {},
   "outputs": [],
   "source": [
    "import pymongo\n",
    "import pandas\n",
    "\n",
    "client = pymongo.MongoClient(\"mongodb+srv://帳號:密碼@mongodb連線通道\")\n",
    "db = client.資料庫名稱\n",
    "collection = db.資料表名稱\n",
    "\n",
    "data1 = {\"Car_Park\":\"住宿方于公共區域提供有線網絡（免費）。\"}\n",
    "collection.delete_many(data1)\n",
    "\n",
    "print(\"完成\")"
   ]
  }
 ],
 "metadata": {
  "kernelspec": {
   "display_name": "Python 3 (ipykernel)",
   "language": "python",
   "name": "python3"
  },
  "language_info": {
   "codemirror_mode": {
    "name": "ipython",
    "version": 3
   },
   "file_extension": ".py",
   "mimetype": "text/x-python",
   "name": "python",
   "nbconvert_exporter": "python",
   "pygments_lexer": "ipython3",
   "version": "3.9.7"
  }
 },
 "nbformat": 4,
 "nbformat_minor": 5
}
