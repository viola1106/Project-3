{
 "cells": [
  {
   "cell_type": "code",
   "execution_count": 1,
   "id": "a1389e5f",
   "metadata": {},
   "outputs": [],
   "source": [
    "import tkinter as tk\n",
    "\n",
    "\n",
    "def aa():\n",
    "    lb1.config(text=\"執行aa\")\n",
    "    \n",
    "def bb():\n",
    "    lb2.config(text=\"同時執行bb\")\n",
    "\n",
    "def AB():\n",
    "    aa()\n",
    "    bb()\n",
    "    \n",
    "    \n",
    "win=tk.Tk()\n",
    "win.geometry(\"600x600\")\n",
    "\n",
    "btn=tk.Button(text=\"click\")\n",
    "btn.config(bg=\"#E8E8E8\",fg=\"#1C1C1C\", font=('微軟正黑體',16),command=lambda:[aa(),bb()])\n",
    "btn.place(x=50,y=230)\n",
    "\n",
    "btn=tk.Button(text=\"click2\")\n",
    "btn.config(bg=\"#E8E8E8\",fg=\"#1C1C1C\", font=('微軟正黑體',16),command=AB)\n",
    "btn.place(x=200,y=230)\n",
    "\n",
    "lb1=tk.Label(text=\"TRY\")\n",
    "lb1.config(bg=\"#E8E8E8\",fg=\"#1C1C1C\", font=('微軟正黑體',16))\n",
    "lb1.place(x=50,y=300)\n",
    "\n",
    "lb2=tk.Label(text=\"TRYY\")\n",
    "lb2.config(bg=\"#E8E8E8\",fg=\"#1C1C1C\", font=('微軟正黑體',16))\n",
    "lb2.place(x=50,y=370)\n",
    "\n",
    "\n",
    "win.mainloop()"
   ]
  },
  {
   "cell_type": "code",
   "execution_count": null,
   "id": "3c2e7717",
   "metadata": {},
   "outputs": [],
   "source": []
  }
 ],
 "metadata": {
  "kernelspec": {
   "display_name": "Python 3 (ipykernel)",
   "language": "python",
   "name": "python3"
  },
  "language_info": {
   "codemirror_mode": {
    "name": "ipython",
    "version": 3
   },
   "file_extension": ".py",
   "mimetype": "text/x-python",
   "name": "python",
   "nbconvert_exporter": "python",
   "pygments_lexer": "ipython3",
   "version": "3.9.7"
  }
 },
 "nbformat": 4,
 "nbformat_minor": 5
}
